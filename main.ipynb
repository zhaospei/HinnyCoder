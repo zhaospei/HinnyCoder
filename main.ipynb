{
 "cells": [
  {
   "cell_type": "code",
   "execution_count": 1,
   "metadata": {},
   "outputs": [],
   "source": [
    "import pandas as pd\n",
    "import numpy as np"
   ]
  },
  {
   "cell_type": "code",
   "execution_count": 15,
   "metadata": {},
   "outputs": [],
   "source": [
    "raw = pd.read_csv('scg-dataset.csv')"
   ]
  },
  {
   "cell_type": "code",
   "execution_count": 16,
   "metadata": {},
   "outputs": [],
   "source": [
    "data = raw.copy()\n",
    "data['len_input'] = data['nl'].apply(lambda x: len(str(x).split()))\n",
    "data['len_output'] = data['code'].apply(lambda x: len(str(x).split()))"
   ]
  },
  {
   "cell_type": "code",
   "execution_count": 17,
   "metadata": {},
   "outputs": [
    {
     "data": {
      "text/html": [
       "<div>\n",
       "<style scoped>\n",
       "    .dataframe tbody tr th:only-of-type {\n",
       "        vertical-align: middle;\n",
       "    }\n",
       "\n",
       "    .dataframe tbody tr th {\n",
       "        vertical-align: top;\n",
       "    }\n",
       "\n",
       "    .dataframe thead th {\n",
       "        text-align: right;\n",
       "    }\n",
       "</style>\n",
       "<table border=\"1\" class=\"dataframe\">\n",
       "  <thead>\n",
       "    <tr style=\"text-align: right;\">\n",
       "      <th></th>\n",
       "      <th>code</th>\n",
       "      <th>nl</th>\n",
       "      <th>ast</th>\n",
       "      <th>len_input</th>\n",
       "      <th>len_output</th>\n",
       "    </tr>\n",
       "  </thead>\n",
       "  <tbody>\n",
       "    <tr>\n",
       "      <th>0</th>\n",
       "      <td>function defrost token ( ) public { require ( ...</td>\n",
       "      <td>public functions of the contract .</td>\n",
       "      <td>SourceUnit ContractDefinition FunctionDefiniti...</td>\n",
       "      <td>6</td>\n",
       "      <td>36</td>\n",
       "    </tr>\n",
       "    <tr>\n",
       "      <th>1</th>\n",
       "      <td>function calculate order fill amount ( order s...</td>\n",
       "      <td>0 if neither order be the small one ; 1 if 'st...</td>\n",
       "      <td>SourceUnit ContractDefinition FunctionDefiniti...</td>\n",
       "      <td>27</td>\n",
       "      <td>197</td>\n",
       "    </tr>\n",
       "    <tr>\n",
       "      <th>2</th>\n",
       "      <td>function crowd sale approve ( address buyer , ...</td>\n",
       "      <td>allow an address to participate in the crowd s...</td>\n",
       "      <td>SourceUnit ContractDefinition FunctionDefiniti...</td>\n",
       "      <td>14</td>\n",
       "      <td>56</td>\n",
       "    </tr>\n",
       "    <tr>\n",
       "      <th>3</th>\n",
       "      <td>function revert funds ( ) public in state ( st...</td>\n",
       "      <td>sale protection .</td>\n",
       "      <td>SourceUnit ContractDefinition FunctionDefiniti...</td>\n",
       "      <td>3</td>\n",
       "      <td>42</td>\n",
       "    </tr>\n",
       "    <tr>\n",
       "      <th>4</th>\n",
       "      <td>function _fees ( ) ismain payable { fees ( ) ; }</td>\n",
       "      <td>manual claim .</td>\n",
       "      <td>SourceUnit ContractDefinition FunctionDefiniti...</td>\n",
       "      <td>3</td>\n",
       "      <td>12</td>\n",
       "    </tr>\n",
       "    <tr>\n",
       "      <th>5</th>\n",
       "      <td>function _create car ( string _name , address ...</td>\n",
       "      <td>for create car .</td>\n",
       "      <td>SourceUnit ContractDefinition FunctionDefiniti...</td>\n",
       "      <td>4</td>\n",
       "      <td>97</td>\n",
       "    </tr>\n",
       "    <tr>\n",
       "      <th>6</th>\n",
       "      <td>function mint tokens ( address _owner ) can mi...</td>\n",
       "      <td>mints _amount tokens that be assign to _owner .</td>\n",
       "      <td>SourceUnit ContractDefinition FunctionDefiniti...</td>\n",
       "      <td>9</td>\n",
       "      <td>182</td>\n",
       "    </tr>\n",
       "    <tr>\n",
       "      <th>7</th>\n",
       "      <td>function init ( address _founder , address _de...</td>\n",
       "      <td>initialises address of founder , target wallets .</td>\n",
       "      <td>SourceUnit ContractDefinition FunctionDefiniti...</td>\n",
       "      <td>8</td>\n",
       "      <td>126</td>\n",
       "    </tr>\n",
       "    <tr>\n",
       "      <th>8</th>\n",
       "      <td>function open trading ( ) external only owner ...</td>\n",
       "      <td>open the trade for everyone .</td>\n",
       "      <td>SourceUnit ContractDefinition FunctionDefiniti...</td>\n",
       "      <td>6</td>\n",
       "      <td>15</td>\n",
       "    </tr>\n",
       "    <tr>\n",
       "      <th>9</th>\n",
       "      <td>function ecrecover from vrs ( bytes32 hash , u...</td>\n",
       "      <td>ecrecover from the signature part v , r , s .</td>\n",
       "      <td>SourceUnit ContractDefinition FunctionDefiniti...</td>\n",
       "      <td>11</td>\n",
       "      <td>39</td>\n",
       "    </tr>\n",
       "  </tbody>\n",
       "</table>\n",
       "</div>"
      ],
      "text/plain": [
       "                                                code  \\\n",
       "0  function defrost token ( ) public { require ( ...   \n",
       "1  function calculate order fill amount ( order s...   \n",
       "2  function crowd sale approve ( address buyer , ...   \n",
       "3  function revert funds ( ) public in state ( st...   \n",
       "4   function _fees ( ) ismain payable { fees ( ) ; }   \n",
       "5  function _create car ( string _name , address ...   \n",
       "6  function mint tokens ( address _owner ) can mi...   \n",
       "7  function init ( address _founder , address _de...   \n",
       "8  function open trading ( ) external only owner ...   \n",
       "9  function ecrecover from vrs ( bytes32 hash , u...   \n",
       "\n",
       "                                                  nl  \\\n",
       "0                 public functions of the contract .   \n",
       "1  0 if neither order be the small one ; 1 if 'st...   \n",
       "2  allow an address to participate in the crowd s...   \n",
       "3                                  sale protection .   \n",
       "4                                     manual claim .   \n",
       "5                                   for create car .   \n",
       "6    mints _amount tokens that be assign to _owner .   \n",
       "7  initialises address of founder , target wallets .   \n",
       "8                      open the trade for everyone .   \n",
       "9      ecrecover from the signature part v , r , s .   \n",
       "\n",
       "                                                 ast  len_input  len_output  \n",
       "0  SourceUnit ContractDefinition FunctionDefiniti...          6          36  \n",
       "1  SourceUnit ContractDefinition FunctionDefiniti...         27         197  \n",
       "2  SourceUnit ContractDefinition FunctionDefiniti...         14          56  \n",
       "3  SourceUnit ContractDefinition FunctionDefiniti...          3          42  \n",
       "4  SourceUnit ContractDefinition FunctionDefiniti...          3          12  \n",
       "5  SourceUnit ContractDefinition FunctionDefiniti...          4          97  \n",
       "6  SourceUnit ContractDefinition FunctionDefiniti...          9         182  \n",
       "7  SourceUnit ContractDefinition FunctionDefiniti...          8         126  \n",
       "8  SourceUnit ContractDefinition FunctionDefiniti...          6          15  \n",
       "9  SourceUnit ContractDefinition FunctionDefiniti...         11          39  "
      ]
     },
     "execution_count": 17,
     "metadata": {},
     "output_type": "execute_result"
    }
   ],
   "source": [
    "data.head(10)"
   ]
  },
  {
   "cell_type": "code",
   "execution_count": 54,
   "metadata": {},
   "outputs": [],
   "source": [
    "data['index'] = data.index"
   ]
  },
  {
   "cell_type": "code",
   "execution_count": 55,
   "metadata": {},
   "outputs": [],
   "source": [
    "data['index'] = data['index'].apply(lambda x: str(x))"
   ]
  },
  {
   "cell_type": "code",
   "execution_count": 38,
   "metadata": {},
   "outputs": [
    {
     "data": {
      "text/html": [
       "<div>\n",
       "<style scoped>\n",
       "    .dataframe tbody tr th:only-of-type {\n",
       "        vertical-align: middle;\n",
       "    }\n",
       "\n",
       "    .dataframe tbody tr th {\n",
       "        vertical-align: top;\n",
       "    }\n",
       "\n",
       "    .dataframe thead th {\n",
       "        text-align: right;\n",
       "    }\n",
       "</style>\n",
       "<table border=\"1\" class=\"dataframe\">\n",
       "  <thead>\n",
       "    <tr style=\"text-align: right;\">\n",
       "      <th></th>\n",
       "      <th>code</th>\n",
       "      <th>nl</th>\n",
       "      <th>ast</th>\n",
       "      <th>len_input</th>\n",
       "      <th>len_output</th>\n",
       "      <th>index</th>\n",
       "    </tr>\n",
       "  </thead>\n",
       "  <tbody>\n",
       "    <tr>\n",
       "      <th>0</th>\n",
       "      <td>function defrost token ( ) public { require ( ...</td>\n",
       "      <td>public functions of the contract .</td>\n",
       "      <td>SourceUnit ContractDefinition FunctionDefiniti...</td>\n",
       "      <td>6</td>\n",
       "      <td>36</td>\n",
       "      <td>0</td>\n",
       "    </tr>\n",
       "    <tr>\n",
       "      <th>1</th>\n",
       "      <td>function calculate order fill amount ( order s...</td>\n",
       "      <td>0 if neither order be the small one ; 1 if 'st...</td>\n",
       "      <td>SourceUnit ContractDefinition FunctionDefiniti...</td>\n",
       "      <td>27</td>\n",
       "      <td>197</td>\n",
       "      <td>1</td>\n",
       "    </tr>\n",
       "    <tr>\n",
       "      <th>2</th>\n",
       "      <td>function crowd sale approve ( address buyer , ...</td>\n",
       "      <td>allow an address to participate in the crowd s...</td>\n",
       "      <td>SourceUnit ContractDefinition FunctionDefiniti...</td>\n",
       "      <td>14</td>\n",
       "      <td>56</td>\n",
       "      <td>2</td>\n",
       "    </tr>\n",
       "    <tr>\n",
       "      <th>3</th>\n",
       "      <td>function revert funds ( ) public in state ( st...</td>\n",
       "      <td>sale protection .</td>\n",
       "      <td>SourceUnit ContractDefinition FunctionDefiniti...</td>\n",
       "      <td>3</td>\n",
       "      <td>42</td>\n",
       "      <td>3</td>\n",
       "    </tr>\n",
       "    <tr>\n",
       "      <th>4</th>\n",
       "      <td>function _fees ( ) ismain payable { fees ( ) ; }</td>\n",
       "      <td>manual claim .</td>\n",
       "      <td>SourceUnit ContractDefinition FunctionDefiniti...</td>\n",
       "      <td>3</td>\n",
       "      <td>12</td>\n",
       "      <td>4</td>\n",
       "    </tr>\n",
       "    <tr>\n",
       "      <th>5</th>\n",
       "      <td>function _create car ( string _name , address ...</td>\n",
       "      <td>for create car .</td>\n",
       "      <td>SourceUnit ContractDefinition FunctionDefiniti...</td>\n",
       "      <td>4</td>\n",
       "      <td>97</td>\n",
       "      <td>5</td>\n",
       "    </tr>\n",
       "    <tr>\n",
       "      <th>6</th>\n",
       "      <td>function mint tokens ( address _owner ) can mi...</td>\n",
       "      <td>mints _amount tokens that be assign to _owner .</td>\n",
       "      <td>SourceUnit ContractDefinition FunctionDefiniti...</td>\n",
       "      <td>9</td>\n",
       "      <td>182</td>\n",
       "      <td>6</td>\n",
       "    </tr>\n",
       "    <tr>\n",
       "      <th>7</th>\n",
       "      <td>function init ( address _founder , address _de...</td>\n",
       "      <td>initialises address of founder , target wallets .</td>\n",
       "      <td>SourceUnit ContractDefinition FunctionDefiniti...</td>\n",
       "      <td>8</td>\n",
       "      <td>126</td>\n",
       "      <td>7</td>\n",
       "    </tr>\n",
       "    <tr>\n",
       "      <th>8</th>\n",
       "      <td>function open trading ( ) external only owner ...</td>\n",
       "      <td>open the trade for everyone .</td>\n",
       "      <td>SourceUnit ContractDefinition FunctionDefiniti...</td>\n",
       "      <td>6</td>\n",
       "      <td>15</td>\n",
       "      <td>8</td>\n",
       "    </tr>\n",
       "    <tr>\n",
       "      <th>9</th>\n",
       "      <td>function ecrecover from vrs ( bytes32 hash , u...</td>\n",
       "      <td>ecrecover from the signature part v , r , s .</td>\n",
       "      <td>SourceUnit ContractDefinition FunctionDefiniti...</td>\n",
       "      <td>11</td>\n",
       "      <td>39</td>\n",
       "      <td>9</td>\n",
       "    </tr>\n",
       "  </tbody>\n",
       "</table>\n",
       "</div>"
      ],
      "text/plain": [
       "                                                code  \\\n",
       "0  function defrost token ( ) public { require ( ...   \n",
       "1  function calculate order fill amount ( order s...   \n",
       "2  function crowd sale approve ( address buyer , ...   \n",
       "3  function revert funds ( ) public in state ( st...   \n",
       "4   function _fees ( ) ismain payable { fees ( ) ; }   \n",
       "5  function _create car ( string _name , address ...   \n",
       "6  function mint tokens ( address _owner ) can mi...   \n",
       "7  function init ( address _founder , address _de...   \n",
       "8  function open trading ( ) external only owner ...   \n",
       "9  function ecrecover from vrs ( bytes32 hash , u...   \n",
       "\n",
       "                                                  nl  \\\n",
       "0                 public functions of the contract .   \n",
       "1  0 if neither order be the small one ; 1 if 'st...   \n",
       "2  allow an address to participate in the crowd s...   \n",
       "3                                  sale protection .   \n",
       "4                                     manual claim .   \n",
       "5                                   for create car .   \n",
       "6    mints _amount tokens that be assign to _owner .   \n",
       "7  initialises address of founder , target wallets .   \n",
       "8                      open the trade for everyone .   \n",
       "9      ecrecover from the signature part v , r , s .   \n",
       "\n",
       "                                                 ast  len_input  len_output  \\\n",
       "0  SourceUnit ContractDefinition FunctionDefiniti...          6          36   \n",
       "1  SourceUnit ContractDefinition FunctionDefiniti...         27         197   \n",
       "2  SourceUnit ContractDefinition FunctionDefiniti...         14          56   \n",
       "3  SourceUnit ContractDefinition FunctionDefiniti...          3          42   \n",
       "4  SourceUnit ContractDefinition FunctionDefiniti...          3          12   \n",
       "5  SourceUnit ContractDefinition FunctionDefiniti...          4          97   \n",
       "6  SourceUnit ContractDefinition FunctionDefiniti...          9         182   \n",
       "7  SourceUnit ContractDefinition FunctionDefiniti...          8         126   \n",
       "8  SourceUnit ContractDefinition FunctionDefiniti...          6          15   \n",
       "9  SourceUnit ContractDefinition FunctionDefiniti...         11          39   \n",
       "\n",
       "   index  \n",
       "0      0  \n",
       "1      1  \n",
       "2      2  \n",
       "3      3  \n",
       "4      4  \n",
       "5      5  \n",
       "6      6  \n",
       "7      7  \n",
       "8      8  \n",
       "9      9  "
      ]
     },
     "execution_count": 38,
     "metadata": {},
     "output_type": "execute_result"
    }
   ],
   "source": [
    "data.head(10)"
   ]
  },
  {
   "cell_type": "code",
   "execution_count": 25,
   "metadata": {},
   "outputs": [
    {
     "data": {
      "text/plain": [
       "0.9852960969044414"
      ]
     },
     "execution_count": 25,
     "metadata": {},
     "output_type": "execute_result"
    }
   ],
   "source": [
    "len(data[data['len_input'] < 30])/ len(data)"
   ]
  },
  {
   "cell_type": "code",
   "execution_count": 45,
   "metadata": {},
   "outputs": [
    {
     "data": {
      "text/plain": [
       "29720"
      ]
     },
     "execution_count": 45,
     "metadata": {},
     "output_type": "execute_result"
    }
   ],
   "source": []
  },
  {
   "cell_type": "code",
   "execution_count": 27,
   "metadata": {},
   "outputs": [
    {
     "data": {
      "text/plain": [
       "count    29720.000000\n",
       "mean        69.648520\n",
       "std         54.686988\n",
       "min          6.000000\n",
       "25%         28.000000\n",
       "50%         49.000000\n",
       "75%         95.000000\n",
       "max        501.000000\n",
       "Name: len_output, dtype: float64"
      ]
     },
     "execution_count": 27,
     "metadata": {},
     "output_type": "execute_result"
    }
   ],
   "source": [
    "data['len_output'].describe()"
   ]
  },
  {
   "cell_type": "code",
   "execution_count": 33,
   "metadata": {},
   "outputs": [
    {
     "data": {
      "text/plain": [
       "0.9995289367429341"
      ]
     },
     "execution_count": 33,
     "metadata": {},
     "output_type": "execute_result"
    }
   ],
   "source": [
    "len(data[data['len_output'] < 300])/ len(data)"
   ]
  },
  {
   "cell_type": "code",
   "execution_count": 39,
   "metadata": {},
   "outputs": [],
   "source": [
    "train_percent = 0.8\n",
    "train_index = sorted(set(data['index'].sample(int(data['index'].nunique() * train_percent), random_state=42)))\n",
    "test_index = sorted(set(data[~data['index'].isin(train_index)]['index']))"
   ]
  },
  {
   "cell_type": "code",
   "execution_count": 41,
   "metadata": {},
   "outputs": [
    {
     "data": {
      "text/plain": [
       "23776"
      ]
     },
     "execution_count": 41,
     "metadata": {},
     "output_type": "execute_result"
    }
   ],
   "source": [
    "len(train_index)"
   ]
  },
  {
   "cell_type": "code",
   "execution_count": 42,
   "metadata": {},
   "outputs": [
    {
     "data": {
      "text/plain": [
       "5944"
      ]
     },
     "execution_count": 42,
     "metadata": {},
     "output_type": "execute_result"
    }
   ],
   "source": [
    "len(test_index)"
   ]
  },
  {
   "cell_type": "code",
   "execution_count": 44,
   "metadata": {},
   "outputs": [],
   "source": [
    "import os\n",
    "if not os.path.exists(f'scg-data/random'):\n",
    "    os.makedirs(f'scg-data/random')\n",
    "\n",
    "with open(f'scg-data/random/train_id.txt', 'w') as f:\n",
    "        for line in train_index:\n",
    "            f.write(f\"{line}\\n\")\n",
    "\n",
    "with open(f'scg-data/random/test_id.txt', 'w') as f:\n",
    "    for line in test_index:\n",
    "        f.write(f\"{line}\\n\")\n"
   ]
  },
  {
   "cell_type": "code",
   "execution_count": 56,
   "metadata": {},
   "outputs": [],
   "source": [
    "data.to_parquet(f'scg-data/scg-data-processed.parquet', engine='fastparquet')"
   ]
  },
  {
   "cell_type": "code",
   "execution_count": 48,
   "metadata": {},
   "outputs": [],
   "source": [
    "test = pd.read_parquet(f'scg-data/scg-data-processed.parquet', engine='fastparquet')"
   ]
  },
  {
   "cell_type": "code",
   "execution_count": 49,
   "metadata": {},
   "outputs": [
    {
     "data": {
      "text/html": [
       "<div>\n",
       "<style scoped>\n",
       "    .dataframe tbody tr th:only-of-type {\n",
       "        vertical-align: middle;\n",
       "    }\n",
       "\n",
       "    .dataframe tbody tr th {\n",
       "        vertical-align: top;\n",
       "    }\n",
       "\n",
       "    .dataframe thead th {\n",
       "        text-align: right;\n",
       "    }\n",
       "</style>\n",
       "<table border=\"1\" class=\"dataframe\">\n",
       "  <thead>\n",
       "    <tr style=\"text-align: right;\">\n",
       "      <th></th>\n",
       "      <th>code</th>\n",
       "      <th>nl</th>\n",
       "      <th>ast</th>\n",
       "      <th>len_input</th>\n",
       "      <th>len_output</th>\n",
       "      <th>index</th>\n",
       "    </tr>\n",
       "  </thead>\n",
       "  <tbody>\n",
       "    <tr>\n",
       "      <th>0</th>\n",
       "      <td>function defrost token ( ) public { require ( ...</td>\n",
       "      <td>public functions of the contract .</td>\n",
       "      <td>SourceUnit ContractDefinition FunctionDefiniti...</td>\n",
       "      <td>6</td>\n",
       "      <td>36</td>\n",
       "      <td>0</td>\n",
       "    </tr>\n",
       "    <tr>\n",
       "      <th>1</th>\n",
       "      <td>function calculate order fill amount ( order s...</td>\n",
       "      <td>0 if neither order be the small one ; 1 if 'st...</td>\n",
       "      <td>SourceUnit ContractDefinition FunctionDefiniti...</td>\n",
       "      <td>27</td>\n",
       "      <td>197</td>\n",
       "      <td>1</td>\n",
       "    </tr>\n",
       "    <tr>\n",
       "      <th>2</th>\n",
       "      <td>function crowd sale approve ( address buyer , ...</td>\n",
       "      <td>allow an address to participate in the crowd s...</td>\n",
       "      <td>SourceUnit ContractDefinition FunctionDefiniti...</td>\n",
       "      <td>14</td>\n",
       "      <td>56</td>\n",
       "      <td>2</td>\n",
       "    </tr>\n",
       "    <tr>\n",
       "      <th>3</th>\n",
       "      <td>function revert funds ( ) public in state ( st...</td>\n",
       "      <td>sale protection .</td>\n",
       "      <td>SourceUnit ContractDefinition FunctionDefiniti...</td>\n",
       "      <td>3</td>\n",
       "      <td>42</td>\n",
       "      <td>3</td>\n",
       "    </tr>\n",
       "    <tr>\n",
       "      <th>4</th>\n",
       "      <td>function _fees ( ) ismain payable { fees ( ) ; }</td>\n",
       "      <td>manual claim .</td>\n",
       "      <td>SourceUnit ContractDefinition FunctionDefiniti...</td>\n",
       "      <td>3</td>\n",
       "      <td>12</td>\n",
       "      <td>4</td>\n",
       "    </tr>\n",
       "    <tr>\n",
       "      <th>...</th>\n",
       "      <td>...</td>\n",
       "      <td>...</td>\n",
       "      <td>...</td>\n",
       "      <td>...</td>\n",
       "      <td>...</td>\n",
       "      <td>...</td>\n",
       "    </tr>\n",
       "    <tr>\n",
       "      <th>29715</th>\n",
       "      <td>function enable_deposits ( bool toggle ) { req...</td>\n",
       "      <td>can disable / enable contract .</td>\n",
       "      <td>SourceUnit ContractDefinition FunctionDefiniti...</td>\n",
       "      <td>6</td>\n",
       "      <td>21</td>\n",
       "      <td>29715</td>\n",
       "    </tr>\n",
       "    <tr>\n",
       "      <th>29716</th>\n",
       "      <td>function add to white list ( address _whitelis...</td>\n",
       "      <td>function for add address to whitelist .</td>\n",
       "      <td>SourceUnit ContractDefinition FunctionDefiniti...</td>\n",
       "      <td>7</td>\n",
       "      <td>24</td>\n",
       "      <td>29716</td>\n",
       "    </tr>\n",
       "    <tr>\n",
       "      <th>29717</th>\n",
       "      <td>function buy tokens ( address _referer ) publi...</td>\n",
       "      <td>makes order for tokens purchase .</td>\n",
       "      <td>SourceUnit ContractDefinition FunctionDefiniti...</td>\n",
       "      <td>6</td>\n",
       "      <td>22</td>\n",
       "      <td>29717</td>\n",
       "    </tr>\n",
       "    <tr>\n",
       "      <th>29718</th>\n",
       "      <td>function close sale ( ) public only owner { re...</td>\n",
       "      <td>contract owner can close the crowdsale .</td>\n",
       "      <td>SourceUnit ContractDefinition FunctionDefiniti...</td>\n",
       "      <td>7</td>\n",
       "      <td>22</td>\n",
       "      <td>29718</td>\n",
       "    </tr>\n",
       "    <tr>\n",
       "      <th>29719</th>\n",
       "      <td>function deposit ( ) payable public returns ( ...</td>\n",
       "      <td>deposits ether to the contract .</td>\n",
       "      <td>SourceUnit ContractDefinition FunctionDefiniti...</td>\n",
       "      <td>6</td>\n",
       "      <td>63</td>\n",
       "      <td>29719</td>\n",
       "    </tr>\n",
       "  </tbody>\n",
       "</table>\n",
       "<p>29720 rows × 6 columns</p>\n",
       "</div>"
      ],
      "text/plain": [
       "                                                    code  \\\n",
       "0      function defrost token ( ) public { require ( ...   \n",
       "1      function calculate order fill amount ( order s...   \n",
       "2      function crowd sale approve ( address buyer , ...   \n",
       "3      function revert funds ( ) public in state ( st...   \n",
       "4       function _fees ( ) ismain payable { fees ( ) ; }   \n",
       "...                                                  ...   \n",
       "29715  function enable_deposits ( bool toggle ) { req...   \n",
       "29716  function add to white list ( address _whitelis...   \n",
       "29717  function buy tokens ( address _referer ) publi...   \n",
       "29718  function close sale ( ) public only owner { re...   \n",
       "29719  function deposit ( ) payable public returns ( ...   \n",
       "\n",
       "                                                      nl  \\\n",
       "0                     public functions of the contract .   \n",
       "1      0 if neither order be the small one ; 1 if 'st...   \n",
       "2      allow an address to participate in the crowd s...   \n",
       "3                                      sale protection .   \n",
       "4                                         manual claim .   \n",
       "...                                                  ...   \n",
       "29715                    can disable / enable contract .   \n",
       "29716            function for add address to whitelist .   \n",
       "29717                  makes order for tokens purchase .   \n",
       "29718           contract owner can close the crowdsale .   \n",
       "29719                   deposits ether to the contract .   \n",
       "\n",
       "                                                     ast  len_input  \\\n",
       "0      SourceUnit ContractDefinition FunctionDefiniti...          6   \n",
       "1      SourceUnit ContractDefinition FunctionDefiniti...         27   \n",
       "2      SourceUnit ContractDefinition FunctionDefiniti...         14   \n",
       "3      SourceUnit ContractDefinition FunctionDefiniti...          3   \n",
       "4      SourceUnit ContractDefinition FunctionDefiniti...          3   \n",
       "...                                                  ...        ...   \n",
       "29715  SourceUnit ContractDefinition FunctionDefiniti...          6   \n",
       "29716  SourceUnit ContractDefinition FunctionDefiniti...          7   \n",
       "29717  SourceUnit ContractDefinition FunctionDefiniti...          6   \n",
       "29718  SourceUnit ContractDefinition FunctionDefiniti...          7   \n",
       "29719  SourceUnit ContractDefinition FunctionDefiniti...          6   \n",
       "\n",
       "       len_output  index  \n",
       "0              36      0  \n",
       "1             197      1  \n",
       "2              56      2  \n",
       "3              42      3  \n",
       "4              12      4  \n",
       "...           ...    ...  \n",
       "29715          21  29715  \n",
       "29716          24  29716  \n",
       "29717          22  29717  \n",
       "29718          22  29718  \n",
       "29719          63  29719  \n",
       "\n",
       "[29720 rows x 6 columns]"
      ]
     },
     "execution_count": 49,
     "metadata": {},
     "output_type": "execute_result"
    }
   ],
   "source": [
    "test"
   ]
  }
 ],
 "metadata": {
  "kernelspec": {
   "display_name": "Python 3",
   "language": "python",
   "name": "python3"
  },
  "language_info": {
   "codemirror_mode": {
    "name": "ipython",
    "version": 3
   },
   "file_extension": ".py",
   "mimetype": "text/x-python",
   "name": "python",
   "nbconvert_exporter": "python",
   "pygments_lexer": "ipython3",
   "version": "3.11.5"
  }
 },
 "nbformat": 4,
 "nbformat_minor": 2
}
